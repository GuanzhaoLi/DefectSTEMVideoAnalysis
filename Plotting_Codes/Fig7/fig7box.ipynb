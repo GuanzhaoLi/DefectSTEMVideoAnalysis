{
 "cells": [
  {
   "cell_type": "code",
   "execution_count": null,
   "metadata": {},
   "outputs": [],
   "source": [
    "#ru guo hai mei gai yolo write, yong zhe ge suan IOU\n",
    "import os\n",
    "#import skimage\n",
    "import cv2\n",
    "from os import walk, getcwd\n",
    "from PIL import Image\n",
    "import math\n",
    "import matplotlib.pyplot as plt\n",
    "import matplotlib.patches as patches\n",
    "import matplotlib.image as mpimg\n",
    "#from skimage import data\n",
    "linewidth = 5\n",
    "yume=10\n",
    "# Mag=1340/416\n",
    "# MagY=952/416\n",
    "with open(\"452.txt\") as filehandle:\n",
    "    images= filehandle.readline()\n",
    "   \n",
    "    imagelist= images.split(\"),\")\n",
    "    images=[]\n",
    "    for image in imagelist:\n",
    "        images.append(image.replace(\"(\", \"\").replace(\"[\",\"\").strip().split(\",\"))\n",
    "    listToOpen=list()\n",
    "    for item in images:\n",
    "        listToOpen.append((item[0], (item[2], item[3])))\n",
    "    for item in listToOpen:\n",
    "        im = mpimg.imread(\"/home/guanzhao/Downloads/Fortraj/distanceForEachDefect0/video1frames/video1frame\"+item[0]+\".jpg\")\n",
    "        #resized_image = cv2.resize(im, (1340, 952))\n",
    "        fig, ax = plt.subplots(figsize=(50, 50))\n",
    "        print()\n",
    "        Xmin= float(item[1][0])-yume\n",
    "        Xmax= float(item[1][0])+yume\n",
    "        Ymin= float(item[1][1])-yume\n",
    "        Ymax= float(item[1][1])+yume\n",
    "        width=2*yume\n",
    "        height=2*yume\n",
    "        rect = patches.Rectangle((Xmin, Ymin), width, height, linewidth=linewidth, edgecolor='deepskyblue', facecolor = 'none')\n",
    "        ax.add_patch(rect)\n",
    "        ax.imshow(im)\n",
    "        fig.savefig(\"./trajectoryImagesPlotted/\"+item[0]+\".jpg\")\n",
    "        plt.close()\n",
    "   "
   ]
  }
 ],
 "metadata": {
  "kernelspec": {
   "display_name": "Python 3",
   "language": "python",
   "name": "python3"
  },
  "language_info": {
   "codemirror_mode": {
    "name": "ipython",
    "version": 3
   },
   "file_extension": ".py",
   "mimetype": "text/x-python",
   "name": "python",
   "nbconvert_exporter": "python",
   "pygments_lexer": "ipython3",
   "version": "3.7.6"
  }
 },
 "nbformat": 4,
 "nbformat_minor": 4
}
