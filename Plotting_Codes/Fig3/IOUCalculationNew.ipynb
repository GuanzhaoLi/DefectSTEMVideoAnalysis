{
 "cells": [
  {
   "cell_type": "code",
   "execution_count": 54,
   "metadata": {},
   "outputs": [],
   "source": [
    "def parsetxt(filename):\n",
    "    with open(filename) as f:\n",
    "        contents = list()\n",
    "        num = 0\n",
    "        for inputData in f.readlines():\n",
    "            inputData2=inputData.split()\n",
    "            for inputData3 in inputData2:\n",
    "                tmpList = [int(x) for x in inputData3.split(\",\")] \n",
    "                contents.append(tmpList)\n",
    "    return contents"
   ]
  },
  {
   "cell_type": "code",
   "execution_count": 55,
   "metadata": {},
   "outputs": [],
   "source": [
    "def bbox_iou(a, b):\n",
    "    \"\"\"Calculate the Intersection of Unions (IoUs) between bounding boxes.\n",
    "    IoU is calculated as a ratio of area of the intersection\n",
    "    and area of the union.\n",
    "\n",
    "    Args:\n",
    "        a: (list of 4 numbers) [y1,x1,y2,x2]\n",
    "        b: (list of 4 numbers) [y1,x1,y2,x2]\n",
    "    Returns:\n",
    "        iou: the value of the IoU of two bboxes\n",
    "\n",
    "    \"\"\"\n",
    "    # (float) Small value to prevent division by zero\n",
    "    epsilon = 1e-5\n",
    "    # COORDINATES OF THE INTERSECTION BOX\n",
    "    y1 = max(a[0], b[0])\n",
    "    x1 = max(a[1], b[1])\n",
    "    y2 = min(a[2], b[2])\n",
    "    x2 = min(a[3], b[3])\n",
    "\n",
    "    # AREA OF OVERLAP - Area where the boxes intersect\n",
    "    width = (x2 - x1)\n",
    "    height = (y2 - y1)\n",
    "    # handle case where there is NO overlap\n",
    "    if (width < 0) or (height < 0):\n",
    "        return 0.0\n",
    "    area_overlap = width * height\n",
    "\n",
    "    # COMBINED AREA\n",
    "    area_a = (a[2] - a[0]) * (a[3] - a[1])\n",
    "    area_b = (b[2] - b[0]) * (b[3] - b[1])\n",
    "    area_combined = area_a + area_b - area_overlap\n",
    "\n",
    "    # RATIO OF AREA OF OVERLAP OVER COMBINED AREA\n",
    "    iou = area_overlap / (area_combined+epsilon)\n",
    "    return iou"
   ]
  },
  {
   "cell_type": "code",
   "execution_count": 56,
   "metadata": {},
   "outputs": [],
   "source": [
    "\n",
    "def IOUcal(dictlist1, dictlist2, IOU):\n",
    "    IOUvalue=0.7\n",
    "    #print(\"dictlist1 length:\"+str(len(dictlist1)))\n",
    "    #print(\"dictlist2 length:\"+str(len(dictlist2)))\n",
    "    for i in range(len(dictlist1)):\n",
    "        for j in range(len(dictlist2)):\n",
    "            XminT= dictlist1[i][0]\n",
    "            YminT= dictlist1[i][1]\n",
    "            XmaxT= dictlist1[i][2]\n",
    "            YmaxT= dictlist1[i][3]\n",
    "            \n",
    "            XminL=dictlist2[j][0]\n",
    "            YminL=dictlist2[j][1]\n",
    "            XmaxL=dictlist2[j][2]\n",
    "            YmaxL=dictlist2[j][3]\n",
    "            BBoxA = [YminT,XminT,YmaxT,XmaxT]\n",
    "            BBoxB = [YminL,XminL,YmaxL,XmaxL]\n",
    "            tmpIoU = bbox_iou(BBoxA,BBoxB)\n",
    "            #IOU.append(tmpIoU)\n",
    "            if tmpIoU >= IOUvalue:\n",
    "                IOU.append(tmpIoU)\n",
    "            #print(tmpIoU)\n",
    "#             xMax= min(XmaxT, XmaxL)\n",
    "#             yMax= min(YmaxT,YmaxL)\n",
    "#             xMin= max(XminT, XminL)\n",
    "#             yMin= max(YminT, YminL)\n",
    "    \n",
    "#             # compute the area of intersection rectangle\n",
    "#             interArea= (xMax-xMin)*(yMax-yMin)\n",
    "#             if((xMax-xMin)<0 or (yMax-yMin)<0):\n",
    "                \n",
    "\n",
    "#             # compute the area of both the prediction and ground-truth rectangles\n",
    "#             trueBoxArea= (XmaxT-XminT)*(YmaxT-YminT)\n",
    "#             labelBoxArea=(XmaxL-XminL)*(YmaxL-YminL)\n",
    "            \n",
    "\n",
    "#             # compute the intersection over union by taking the intersection\n",
    "#             # area and dividing it by the sum of prediction + ground-truth\n",
    "#             # areas - the interesection area\n",
    "#             if(interArea!=trueBoxArea + labelBoxArea):\n",
    "#                 result = round(interArea/(trueBoxArea + labelBoxArea - interArea),2)\n",
    "#                 if(result==20.29):\n",
    "#                     print(str(interArea))\n",
    "#                     print(str(trueBoxArea))\n",
    "#                     print(str(labelBoxArea))\n",
    "#             else:\n",
    "#                 result=1\n",
    "#                 IOU.append(result)\n",
    "#             if(result > IOUvalue): \n",
    "#                 IOU.append(result)\n",
    "#                 break\n",
    "    return IOU          "
   ]
  },
  {
   "cell_type": "code",
   "execution_count": 57,
   "metadata": {},
   "outputs": [],
   "source": [
    "def calculateRecallSingleType(originalList, generatedList):\n",
    "    labelCount = 0    \n",
    "    denominator = len(originalList)\n",
    "    IOU = []\n",
    "    IOUcal(originalList, generatedList, IOU)\n",
    "    labelCount = len(IOU)                  \n",
    "    return labelCount,denominator"
   ]
  },
  {
   "cell_type": "code",
   "execution_count": 58,
   "metadata": {},
   "outputs": [],
   "source": [
    "def calculatePrecisionSingleType(originalList, generatedList):\n",
    "    labelCount = 0    \n",
    "    denominator = len(generatedList)\n",
    "    IOU = []\n",
    "    IOUcal(originalList, generatedList, IOU)\n",
    "    #print(IOU)\n",
    "    labelCount = len(IOU)\n",
    "    \n",
    "    return labelCount, denominator"
   ]
  },
  {
   "cell_type": "code",
   "execution_count": null,
   "metadata": {},
   "outputs": [],
   "source": []
  },
  {
   "cell_type": "code",
   "execution_count": 59,
   "metadata": {},
   "outputs": [],
   "source": [
    "def main():\n",
    "    precisionList = []\n",
    "    recallList = []\n",
    "    with open('testimages.txt')as f:\n",
    "        for line in f:\n",
    "            print(line)\n",
    "            origlist = parsetxt('/home/guanzhao/Documents/NextGenCode/Precision&Recall/original/' + line[:-5] + '.txt')\n",
    "            genlist = parsetxt('/home/guanzhao/Documents/NextGenCode/Precision&Recall/output/NicolaosVII/' + line[:-5] + 'result.txt')\n",
    "            recallList.append(calculateRecallSingleType(origlist, genlist))\n",
    "            precisionList.append(calculatePrecisionSingleType(origlist, genlist))\n",
    "    return recallList, precisionList\n",
    "        "
   ]
  },
  {
   "cell_type": "code",
   "execution_count": 60,
   "metadata": {
    "scrolled": false
   },
   "outputs": [
    {
     "name": "stdout",
     "output_type": "stream",
     "text": [
      "Frame120.jpg\n",
      "\n",
      "Frame472.jpg\n",
      "\n",
      "Frame824.jpg\n",
      "\n",
      "Frame1175.jpg\n",
      "\n",
      "Frame821.jpg\n",
      "\n",
      "Frame999.jpg\n",
      "\n"
     ]
    }
   ],
   "source": [
    "rec, prec = main()"
   ]
  },
  {
   "cell_type": "code",
   "execution_count": 61,
   "metadata": {},
   "outputs": [],
   "source": [
    "#Function to calculate the average precision and recall\n",
    "#Argument - list (elements are tuples(numerator and denominator))\n",
    "#Returns - sum of numerators/sum of denominators\n",
    "def computeAverage(listname):\n",
    "    total = 0\n",
    "    total2 = 0\n",
    "    for i in range(len(listname)):\n",
    "        print(listname[i])\n",
    "        if listname[i][1] < listname[i][0]:\n",
    "            total += listname[i][1]\n",
    "            total2 += listname[i][1]\n",
    "        else:\n",
    "            total += listname[i][0]\n",
    "            total2 += listname[i][1]\n",
    "    print(total)\n",
    "    print(total2)\n",
    "    return round(total/total2, 2)"
   ]
  },
  {
   "cell_type": "code",
   "execution_count": 62,
   "metadata": {},
   "outputs": [
    {
     "name": "stdout",
     "output_type": "stream",
     "text": [
      "(0, 63)\n",
      "(3, 129)\n",
      "(15, 169)\n",
      "(19, 194)\n",
      "(18, 172)\n",
      "(16, 177)\n",
      "71\n",
      "904\n",
      "0.08\n",
      "(0, 58)\n",
      "(3, 127)\n",
      "(15, 160)\n",
      "(19, 183)\n",
      "(18, 163)\n",
      "(16, 185)\n",
      "71\n",
      "876\n",
      "0.08\n"
     ]
    }
   ],
   "source": [
    "print(computeAverage(rec))\n",
    "print(computeAverage(prec))"
   ]
  },
  {
   "cell_type": "code",
   "execution_count": null,
   "metadata": {},
   "outputs": [],
   "source": []
  },
  {
   "cell_type": "code",
   "execution_count": 120,
   "metadata": {},
   "outputs": [
    {
     "name": "stdout",
     "output_type": "stream",
     "text": [
      "[(0, 63), (0, 129), (1, 169), (6, 194), (2, 172), (3, 177)]\n"
     ]
    }
   ],
   "source": [
    "print(rec)"
   ]
  },
  {
   "cell_type": "code",
   "execution_count": null,
   "metadata": {},
   "outputs": [],
   "source": []
  }
 ],
 "metadata": {
  "kernelspec": {
   "display_name": "Python 3",
   "language": "python",
   "name": "python3"
  },
  "language_info": {
   "codemirror_mode": {
    "name": "ipython",
    "version": 3
   },
   "file_extension": ".py",
   "mimetype": "text/x-python",
   "name": "python",
   "nbconvert_exporter": "python",
   "pygments_lexer": "ipython3",
   "version": "3.6.7"
  }
 },
 "nbformat": 4,
 "nbformat_minor": 2
}
