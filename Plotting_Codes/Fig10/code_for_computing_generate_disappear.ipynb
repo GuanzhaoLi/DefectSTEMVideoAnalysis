{
 "cells": [
  {
   "cell_type": "code",
   "execution_count": 1,
   "metadata": {},
   "outputs": [
    {
     "data": {
      "text/plain": [
       "'\\nCreated on Mon Jun 1 18:20:10 2020\\n\\n@author: Dongxia Wu\\n'"
      ]
     },
     "execution_count": 1,
     "metadata": {},
     "output_type": "execute_result"
    }
   ],
   "source": [
    "#!/usr/bin/env python3\n",
    "# -*- coding: utf-8 -*-\n",
    "\"\"\"\n",
    "Created on Mon Jun 1 18:20:10 2020\n",
    "\n",
    "@author: Dongxia Wu\n",
    "\"\"\""
   ]
  },
  {
   "cell_type": "code",
   "execution_count": 2,
   "metadata": {},
   "outputs": [],
   "source": [
    "import pandas as pd\n",
    "import matplotlib.pyplot as plt"
   ]
  },
  {
   "cell_type": "code",
   "execution_count": 3,
   "metadata": {},
   "outputs": [],
   "source": [
    "# dat = pd.read_csv(\"t_filtered.csv\")\n",
    "# dat = pd.read_csv(\"t_unfiltered.csv\")\n",
    "dat = pd.read_csv(\"t1.csv\")\n",
    "\n",
    "dat1 = dat.iloc[:, 9:11]\n",
    "dat1 = dat1.astype('int64')\n",
    "dat1 = dat1.sort_values(by=['particle'])"
   ]
  },
  {
   "cell_type": "code",
   "execution_count": 4,
   "metadata": {
    "scrolled": true
   },
   "outputs": [],
   "source": [
    "dat_min = dat1.groupby('particle').idxmin()\n",
    "dat_min['type'] = 'Generate'\n",
    "dat2 = dat_min.set_index('type',append=True).stack().rename('index')\n",
    "dat3 = pd.concat([ dat2.reset_index().drop('particle',axis=1).set_index('index'), \n",
    "                  dat1.loc[dat2.values] ], axis=1 )\n",
    "dat3 = dat3.drop([\"type\",\"level_2\"], axis=1)\n",
    "dat_generate = dat3.groupby('frame').count()\n",
    "dat_generate = dat_generate.rename(columns={\"particle\": \"Generate\"})\n",
    "\n",
    "new_index = [*range(0, 1175, 1)]\n",
    "dat_generate = dat_generate.reindex(new_index, fill_value=0)"
   ]
  },
  {
   "cell_type": "code",
   "execution_count": 5,
   "metadata": {},
   "outputs": [],
   "source": [
    "dat_max = dat1.groupby('particle').idxmax()\n",
    "dat_max['type'] = 'Disappear'\n",
    "dat2 = dat_max.set_index('type',append=True).stack().rename('index')\n",
    "dat3 = pd.concat([ dat2.reset_index().drop('particle',axis=1).set_index('index'), \n",
    "                  dat1.loc[dat2.values] ], axis=1 )\n",
    "dat3 = dat3.drop([\"type\",\"level_2\"], axis=1)\n",
    "dat_disappear = dat3.groupby('frame').count()\n",
    "dat_disappear = dat_disappear.rename(columns={\"particle\": \"Disappear\"})\n",
    "dat_disappear = dat_disappear.iloc[0:-1,]\n",
    "dat_disappear.index += 1 \n",
    "\n",
    "dat_disappear = dat_disappear.reindex(new_index, fill_value=0)"
   ]
  },
  {
   "cell_type": "code",
   "execution_count": 6,
   "metadata": {},
   "outputs": [],
   "source": [
    "dat_combine = pd.concat([dat_generate, dat_disappear.reindex(dat_generate.index)], axis=1)\n",
    "dat_combine = dat_combine.fillna(0)\n",
    "dat_combine = dat_combine.astype('int64')\n",
    "dat_combine = dat_combine.iloc[::50,]\n"
   ]
  },
  {
   "cell_type": "code",
   "execution_count": 7,
   "metadata": {},
   "outputs": [],
   "source": [
    "# dat_combine.to_csv(\"output_t_filtered.csv\", index=False, encoding='utf8')\n",
    "# dat_combine.to_csv(\"output_t_unfiltered.csv\", index=False, encoding='utf8')\n",
    "dat_combine.to_csv(\"output_t1.csv\", index=False, encoding='utf8')"
   ]
  },
  {
   "cell_type": "code",
   "execution_count": 8,
   "metadata": {},
   "outputs": [],
   "source": [
    "dat_disappear.to_csv(\"disappear.csv\", index=False, encoding='utf8')\n",
    "dat_generate.to_csv(\"generate.csv\", index=False, encoding='utf8')"
   ]
  },
  {
   "cell_type": "code",
   "execution_count": null,
   "metadata": {},
   "outputs": [],
   "source": []
  }
 ],
 "metadata": {
  "kernelspec": {
   "display_name": "Python 3",
   "language": "python",
   "name": "python3"
  },
  "language_info": {
   "codemirror_mode": {
    "name": "ipython",
    "version": 3
   },
   "file_extension": ".py",
   "mimetype": "text/x-python",
   "name": "python",
   "nbconvert_exporter": "python",
   "pygments_lexer": "ipython3",
   "version": "3.7.3"
  }
 },
 "nbformat": 4,
 "nbformat_minor": 2
}
