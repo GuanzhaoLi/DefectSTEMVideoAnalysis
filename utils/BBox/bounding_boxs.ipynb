{
 "cells": [
  {
   "cell_type": "code",
   "execution_count": 19,
   "metadata": {},
   "outputs": [
    {
     "name": "stdout",
     "output_type": "stream",
     "text": [
      "\n",
      "\n"
     ]
    }
   ],
   "source": [
    "import os\n",
    "from os import walk, getcwd\n",
    "from PIL import Image\n",
    "\n",
    "with open(\"/Users/wudongxia/Desktop/train/images.txt\") as f:\n",
    "    filecontent = f.readlines()\n",
    "    for filename in filecontent:\n",
    "        with open(\"/Users/wudongxia/Desktop/train/\"+ filename[:-4]+\"txt\",'w+') as output_box:\n",
    "                with open('/Users/wudongxia/Desktop/train/bounding_box/'+ filename[:-4]+\"txt\") as input_boxes:\n",
    "                    input_box = input_boxes.readline().split()\n",
    "                    #print(input_box)\n",
    "                    output_box.write(\"./\"+filename+\" \")\n",
    "                    while input_box:\n",
    "                        X1=int(float(input_box[1]))\n",
    "                        X2=int(float(input_box[2]))\n",
    "                        X3=int(float(input_box[3]))\n",
    "                        X4=int(float(input_box[4]))\n",
    "                        class_num=0\n",
    "\n",
    "                        output_box.write(str(X1)+','+str(X2)+','+str(X3)+','+str(X4)+\",\"+str(class_num)+\" \")\n",
    "                        input_box = input_boxes.readline().split()\n",
    "                filename = f.readline()[:-1]\n",
    "                print(filename)"
   ]
  },
  {
   "cell_type": "markdown",
   "metadata": {},
   "source": [
    "## outfile = filename[:-5] + 'output.txt'\n",
    "fout = open(outfile, mode = 'a')\n",
    "fout.write(filename[:-5] + '.jpg,', end = '')\n",
    "for temp in range(len(contents)):\n",
    "    fout.write(contents[temp + 1][0] + ',' + contents[temp + 1][1] + ','\n",
    "         + contents[temp + 1][2] + ',' + contents[temp + 1][3] + ',' + '111 ', end = '') \n",
    "fout.close()"
   ]
  },
  {
   "cell_type": "code",
   "execution_count": null,
   "metadata": {},
   "outputs": [],
   "source": []
  }
 ],
 "metadata": {
  "kernelspec": {
   "display_name": "Python 3",
   "language": "python",
   "name": "python3"
  },
  "language_info": {
   "codemirror_mode": {
    "name": "ipython",
    "version": 3
   },
   "file_extension": ".py",
   "mimetype": "text/x-python",
   "name": "python",
   "nbconvert_exporter": "python",
   "pygments_lexer": "ipython3",
   "version": "3.6.4"
  }
 },
 "nbformat": 4,
 "nbformat_minor": 2
}
