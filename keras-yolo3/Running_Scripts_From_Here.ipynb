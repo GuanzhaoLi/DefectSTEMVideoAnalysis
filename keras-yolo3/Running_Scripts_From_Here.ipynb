{
  "nbformat": 4,
  "nbformat_minor": 0,
  "metadata": {
    "colab": {
      "name": "Copy_of_RunningScripts (1).ipynb",
      "provenance": [],
      "collapsed_sections": []
    },
    "kernelspec": {
      "name": "python3",
      "display_name": "Python 3"
    }
  },
  "cells": [
    {
      "cell_type": "markdown",
      "metadata": {
        "id": "3MZvv7PRwOaq"
      },
      "source": [
        "## Welcome to try out this demo script!\n",
        "### This is a demo script intended to give user a simple idea of how our project works"
      ]
    },
    {
      "cell_type": "markdown",
      "metadata": {
        "id": "52j98CVvwpSt"
      },
      "source": [
        "#### Section 1\n",
        "##### We will start by installing required packages. Note if you use tensorflow 2.0 and keras version later than 2.2.4, you need to make accomondation to the code\n",
        "\n",
        "##### ** note if the tensorflow does not install. Please check your Python version. Make sure it's before Python 3.8 as Tensorflow 1.x is not supported by latest version\n"
      ]
    },
    {
      "cell_type": "markdown",
      "metadata": {
        "id": "MUPqzFG6dxK7"
      },
      "source": [
        "###### !!! use the mount command only if you are running the scripts from Google Colab"
      ]
    },
    {
      "cell_type": "code",
      "metadata": {
        "id": "vPu66hWedsR-"
      },
      "source": [
        "# use this line only if you are using Google Colab\n",
        "from google.colab import drive\n",
        "drive.mount('/content/drive/')\n",
        "# if no, please skip this block"
      ],
      "execution_count": null,
      "outputs": []
    },
    {
      "cell_type": "code",
      "metadata": {
        "id": "UcDb42iU6Cab",
        "outputId": "c9d69cac-b681-471d-a335-05dd5ce20bda",
        "colab": {
          "base_uri": "https://localhost:8080/"
        }
      },
      "source": [
        "!pip install tensorflow==1.12.0\n",
        "!pip install -q keras==2.2.4\n",
        "!pip install trackpy\n",
        "!pip install pims"
      ],
      "execution_count": null,
      "outputs": [
        {
          "output_type": "stream",
          "text": [
            "Collecting tensorflow==1.12.0\n",
            "\u001b[?25l  Downloading https://files.pythonhosted.org/packages/22/cc/ca70b78087015d21c5f3f93694107f34ebccb3be9624385a911d4b52ecef/tensorflow-1.12.0-cp36-cp36m-manylinux1_x86_64.whl (83.1MB)\n",
            "\u001b[K     |████████████████████████████████| 83.1MB 69kB/s \n",
            "\u001b[?25hRequirement already satisfied: protobuf>=3.6.1 in /usr/local/lib/python3.6/dist-packages (from tensorflow==1.12.0) (3.12.4)\n",
            "Requirement already satisfied: astor>=0.6.0 in /usr/local/lib/python3.6/dist-packages (from tensorflow==1.12.0) (0.8.1)\n",
            "Requirement already satisfied: wheel>=0.26 in /usr/local/lib/python3.6/dist-packages (from tensorflow==1.12.0) (0.35.1)\n",
            "Requirement already satisfied: numpy>=1.13.3 in /usr/local/lib/python3.6/dist-packages (from tensorflow==1.12.0) (1.18.5)\n",
            "Requirement already satisfied: termcolor>=1.1.0 in /usr/local/lib/python3.6/dist-packages (from tensorflow==1.12.0) (1.1.0)\n",
            "Requirement already satisfied: gast>=0.2.0 in /usr/local/lib/python3.6/dist-packages (from tensorflow==1.12.0) (0.3.3)\n",
            "Requirement already satisfied: six>=1.10.0 in /usr/local/lib/python3.6/dist-packages (from tensorflow==1.12.0) (1.15.0)\n",
            "Requirement already satisfied: grpcio>=1.8.6 in /usr/local/lib/python3.6/dist-packages (from tensorflow==1.12.0) (1.33.2)\n",
            "Collecting keras-applications>=1.0.6\n",
            "\u001b[?25l  Downloading https://files.pythonhosted.org/packages/71/e3/19762fdfc62877ae9102edf6342d71b28fbfd9dea3d2f96a882ce099b03f/Keras_Applications-1.0.8-py3-none-any.whl (50kB)\n",
            "\u001b[K     |████████████████████████████████| 51kB 6.6MB/s \n",
            "\u001b[?25hRequirement already satisfied: absl-py>=0.1.6 in /usr/local/lib/python3.6/dist-packages (from tensorflow==1.12.0) (0.10.0)\n",
            "Requirement already satisfied: keras-preprocessing>=1.0.5 in /usr/local/lib/python3.6/dist-packages (from tensorflow==1.12.0) (1.1.2)\n",
            "Collecting tensorboard<1.13.0,>=1.12.0\n",
            "\u001b[?25l  Downloading https://files.pythonhosted.org/packages/07/53/8d32ce9471c18f8d99028b7cef2e5b39ea8765bd7ef250ca05b490880971/tensorboard-1.12.2-py3-none-any.whl (3.0MB)\n",
            "\u001b[K     |████████████████████████████████| 3.1MB 34.5MB/s \n",
            "\u001b[?25hRequirement already satisfied: setuptools in /usr/local/lib/python3.6/dist-packages (from protobuf>=3.6.1->tensorflow==1.12.0) (50.3.2)\n",
            "Requirement already satisfied: h5py in /usr/local/lib/python3.6/dist-packages (from keras-applications>=1.0.6->tensorflow==1.12.0) (2.10.0)\n",
            "Requirement already satisfied: markdown>=2.6.8 in /usr/local/lib/python3.6/dist-packages (from tensorboard<1.13.0,>=1.12.0->tensorflow==1.12.0) (3.3.3)\n",
            "Requirement already satisfied: werkzeug>=0.11.10 in /usr/local/lib/python3.6/dist-packages (from tensorboard<1.13.0,>=1.12.0->tensorflow==1.12.0) (1.0.1)\n",
            "Requirement already satisfied: importlib-metadata; python_version < \"3.8\" in /usr/local/lib/python3.6/dist-packages (from markdown>=2.6.8->tensorboard<1.13.0,>=1.12.0->tensorflow==1.12.0) (2.0.0)\n",
            "Requirement already satisfied: zipp>=0.5 in /usr/local/lib/python3.6/dist-packages (from importlib-metadata; python_version < \"3.8\"->markdown>=2.6.8->tensorboard<1.13.0,>=1.12.0->tensorflow==1.12.0) (3.4.0)\n",
            "Installing collected packages: keras-applications, tensorboard, tensorflow\n",
            "  Found existing installation: tensorboard 2.3.0\n",
            "    Uninstalling tensorboard-2.3.0:\n",
            "      Successfully uninstalled tensorboard-2.3.0\n",
            "  Found existing installation: tensorflow 2.3.0\n",
            "    Uninstalling tensorflow-2.3.0:\n",
            "      Successfully uninstalled tensorflow-2.3.0\n",
            "Successfully installed keras-applications-1.0.8 tensorboard-1.12.2 tensorflow-1.12.0\n",
            "\u001b[K     |████████████████████████████████| 317kB 2.7MB/s \n",
            "\u001b[?25hCollecting trackpy\n",
            "\u001b[?25l  Downloading https://files.pythonhosted.org/packages/4a/6a/6f83ed3f93e51aff7c73531580c386110e16d14c9781491fcb535b8af06b/trackpy-0.4.2.tar.gz (129kB)\n",
            "\u001b[K     |████████████████████████████████| 133kB 2.7MB/s \n",
            "\u001b[?25hRequirement already satisfied: numpy>=1.8 in /usr/local/lib/python3.6/dist-packages (from trackpy) (1.18.5)\n",
            "Requirement already satisfied: scipy>=0.12 in /usr/local/lib/python3.6/dist-packages (from trackpy) (1.4.1)\n",
            "Requirement already satisfied: six>=1.8 in /usr/local/lib/python3.6/dist-packages (from trackpy) (1.15.0)\n",
            "Requirement already satisfied: pandas>=0.13 in /usr/local/lib/python3.6/dist-packages (from trackpy) (1.1.4)\n",
            "Requirement already satisfied: pyyaml in /usr/local/lib/python3.6/dist-packages (from trackpy) (3.13)\n",
            "Requirement already satisfied: matplotlib in /usr/local/lib/python3.6/dist-packages (from trackpy) (3.2.2)\n",
            "Requirement already satisfied: pytz>=2017.2 in /usr/local/lib/python3.6/dist-packages (from pandas>=0.13->trackpy) (2018.9)\n",
            "Requirement already satisfied: python-dateutil>=2.7.3 in /usr/local/lib/python3.6/dist-packages (from pandas>=0.13->trackpy) (2.8.1)\n",
            "Requirement already satisfied: pyparsing!=2.0.4,!=2.1.2,!=2.1.6,>=2.0.1 in /usr/local/lib/python3.6/dist-packages (from matplotlib->trackpy) (2.4.7)\n",
            "Requirement already satisfied: kiwisolver>=1.0.1 in /usr/local/lib/python3.6/dist-packages (from matplotlib->trackpy) (1.3.1)\n",
            "Requirement already satisfied: cycler>=0.10 in /usr/local/lib/python3.6/dist-packages (from matplotlib->trackpy) (0.10.0)\n",
            "Building wheels for collected packages: trackpy\n",
            "  Building wheel for trackpy (setup.py) ... \u001b[?25l\u001b[?25hdone\n",
            "  Created wheel for trackpy: filename=trackpy-0.4.2-cp36-none-any.whl size=129634 sha256=242fd748cb0103a30b9ad833388cf769ff72544b7c456bfb02140f36434c9692\n",
            "  Stored in directory: /root/.cache/pip/wheels/d7/a4/41/2b251cce4c42228ae48d7f59a1021aee68668ebb1fd476eb95\n",
            "Successfully built trackpy\n",
            "Installing collected packages: trackpy\n",
            "Successfully installed trackpy-0.4.2\n",
            "Collecting pims\n",
            "\u001b[?25l  Downloading https://files.pythonhosted.org/packages/d5/47/82e0ac31e01a271e5a06362fbf03769e9081956f6772f91d98b32899d743/PIMS-0.5.tar.gz (85kB)\n",
            "\u001b[K     |████████████████████████████████| 92kB 2.3MB/s \n",
            "\u001b[?25hCollecting slicerator>=0.9.8\n",
            "  Downloading https://files.pythonhosted.org/packages/75/ae/fe46f5371105508a209fe6162e7e7b11db531a79d2eabcd24566b8b1f534/slicerator-1.0.0-py3-none-any.whl\n",
            "Requirement already satisfied: six>=1.8 in /usr/local/lib/python3.6/dist-packages (from pims) (1.15.0)\n",
            "Requirement already satisfied: numpy>=1.7 in /usr/local/lib/python3.6/dist-packages (from pims) (1.18.5)\n",
            "Building wheels for collected packages: pims\n",
            "  Building wheel for pims (setup.py) ... \u001b[?25l\u001b[?25hdone\n",
            "  Created wheel for pims: filename=PIMS-0.5-cp36-none-any.whl size=84329 sha256=e738f860ff72c033fab1f65e6a7ff9baa7b082b3fcb2fd98dec40a45dbd291ef\n",
            "  Stored in directory: /root/.cache/pip/wheels/0e/0a/14/4c33a4cc1b9158e57329a38e8e3e03901ed24060eb322d5462\n",
            "Successfully built pims\n",
            "Installing collected packages: slicerator, pims\n",
            "Successfully installed pims-0.5 slicerator-1.0.0\n"
          ],
          "name": "stdout"
        }
      ]
    },
    {
      "cell_type": "markdown",
      "metadata": {
        "id": "J8cfELFAxL-y"
      },
      "source": [
        "##### We will then download everything from the github link\n",
        "\n"
      ]
    },
    {
      "cell_type": "code",
      "metadata": {
        "id": "q7EfUJ0zxLCg",
        "outputId": "0c2beac4-be20-4d7b-8e98-9de608e37c4b",
        "colab": {
          "base_uri": "https://localhost:8080/"
        }
      },
      "source": [
        "import PIL.Image\n",
        "\n",
        "# todo add a list\n",
        "!git clone "
      ],
      "execution_count": null,
      "outputs": [
        {
          "output_type": "stream",
          "text": [
            "Cloning into 'Super-Easy-CNN-Computer-Vison-GUI'...\n",
            "remote: Enumerating objects: 135, done.\u001b[K\n",
            "remote: Counting objects: 100% (135/135), done.\u001b[K\n",
            "remote: Compressing objects: 100% (111/111), done.\u001b[K\n",
            "remote: Total 135 (delta 40), reused 98 (delta 16), pack-reused 0\u001b[K\n",
            "Receiving objects: 100% (135/135), 664.39 KiB | 942.00 KiB/s, done.\n",
            "Resolving deltas: 100% (40/40), done.\n"
          ],
          "name": "stdout"
        }
      ]
    },
    {
      "cell_type": "markdown",
      "metadata": {
        "id": "lMWxJWiHxw-H"
      },
      "source": [
        "### Section 2\n",
        "##### You can now try to run some detection using our pre-trained model\n",
        "##### The code below will call to run a python script called yoloIOU.py which uses trained model to make classfication and generates information that is useful to predict object trajectory.\n",
        "##### Since this is just a demo version. I will just make it detect what is in the images in the imagetest.txt file"
      ]
    },
    {
      "cell_type": "code",
      "metadata": {
        "id": "oKYPNMAvxqeS"
      },
      "source": [
        "!yolo_draw_text_boxv2.py"
      ],
      "execution_count": null,
      "outputs": []
    },
    {
      "cell_type": "code",
      "metadata": {
        "id": "FSiJjDvy1sEE"
      },
      "source": [
        "PIL.Image.open(\"./frame_corp_detected/detect/detectFrame1000.jpg\"); # todo: add some image name"
      ],
      "execution_count": null,
      "outputs": []
    },
    {
      "cell_type": "markdown",
      "metadata": {
        "id": "Z8N-KXAK4XkV"
      },
      "source": [
        "If you want to try more images, just modify the imagetest.txt file to match the  image name you want to detect and repeat the steps above in section 2"
      ]
    },
    {
      "cell_type": "markdown",
      "metadata": {
        "id": "mRpV0LgQXB13"
      },
      "source": [
        "### Section 3\n",
        "##### If you want to train the model with your own image. Make sure you follow the github repository https://github.com/qqwweee/keras-yolo3 to prepare your trainning dataset\n",
        "\n",
        "##### You are also welcomed to use our training dataset to have a look at a rather small trainnig process."
      ]
    },
    {
      "cell_type": "markdown",
      "metadata": {
        "id": "dUqRQIC0Yeo_"
      },
      "source": [
        "Go a head and hit the button. Your trained model can be found under /logs/000/ directory. Please look for something end with \".h5\" extension\n"
      ]
    },
    {
      "cell_type": "code",
      "metadata": {
        "id": "RmbZ405vYXe6"
      },
      "source": [
        "!train.py"
      ],
      "execution_count": null,
      "outputs": []
    },
    {
      "cell_type": "markdown",
      "metadata": {
        "id": "TFbuOdffa0v4"
      },
      "source": [
        "##### If seccess, you should find YOUR_MODEL_TRAINED.h5 in the directory\n"
      ]
    }
  ]
}